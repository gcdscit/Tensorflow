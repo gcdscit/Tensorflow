{
 "cells": [
  {
   "cell_type": "markdown",
   "metadata": {},
   "source": [
    "* Padding defines how the borders of input data are handled\n",
    "* So if you expect the borders to include valuable information, you can try to add padding to your data. \n",
    "* Adds a border of dummy data that can be used while convoluting over data\n",
    "\n",
    "<img src=\"https://www.safaribooksonline.com/library/view/python-deep-learning/9781787125193/assets/46c267e0-1923-4c2f-be9b-7feedba64c61.png\">"
   ]
  },
  {
   "cell_type": "code",
   "execution_count": 1,
   "metadata": {},
   "outputs": [
    {
     "ename": "IndentationError",
     "evalue": "unexpected indent (<ipython-input-1-dd64ed97a89c>, line 24)",
     "output_type": "error",
     "traceback": [
      "\u001b[1;36m  File \u001b[1;32m\"<ipython-input-1-dd64ed97a89c>\"\u001b[1;36m, line \u001b[1;32m24\u001b[0m\n\u001b[1;33m    model.compile(loss='binary_crossentropy', optimizer=opt,\u001b[0m\n\u001b[1;37m    ^\u001b[0m\n\u001b[1;31mIndentationError\u001b[0m\u001b[1;31m:\u001b[0m unexpected indent\n"
     ]
    }
   ],
   "source": [
    "def create_model(stride=1, padding='same', img_size=100):\n",
    "    # Define architecture    \n",
    "    model = Sequential()\n",
    "    model.add(Lambda(lambda x: (x / 255.) - 0.5,\n",
    "    input_shape=(img_size, img_size, 3)))\n",
    "    model.add(Conv2D(32, (3, 3), activation='relu',\n",
    "    padding=padding, strides=stride))\n",
    "    model.add(Conv2D(32, (3, 3), activation='relu',\n",
    "    padding=padding, strides=stride))\n",
    "    model.add(MaxPooling2D(pool_size=(2,2)))\n",
    "    model.add(Dropout(0.5))\n",
    "    model.add(Conv2D(64, (3, 3), activation='relu',\n",
    "    padding=padding, strides=stride))\n",
    "    model.add(Conv2D(64, (3, 3), activation='relu',\n",
    "    padding=padding, strides=stride))\n",
    "    \n",
    "    model.add(Dropout(0.5))\n",
    "    model.add(Flatten())\n",
    "    model.add(Dense(64, activation='relu'))\n",
    "    model.add(Dropout(0.5))\n",
    "    model.add(Dense(1, activation='sigmoid'))\n",
    "    \n",
    "    opt = Adam(0.001)\n",
    "        model.compile(loss='binary_crossentropy', optimizer=opt,\n",
    "        metrics=['binary_accuracy'])\n",
    "    \n",
    "    return model"
   ]
  },
  {
   "cell_type": "code",
   "execution_count": null,
   "metadata": {
    "collapsed": true
   },
   "outputs": [],
   "source": []
  }
 ],
 "metadata": {
  "kernelspec": {
   "display_name": "Python 3",
   "language": "python",
   "name": "python3"
  },
  "language_info": {
   "codemirror_mode": {
    "name": "ipython",
    "version": 3
   },
   "file_extension": ".py",
   "mimetype": "text/x-python",
   "name": "python",
   "nbconvert_exporter": "python",
   "pygments_lexer": "ipython3",
   "version": "3.6.3"
  }
 },
 "nbformat": 4,
 "nbformat_minor": 2
}
